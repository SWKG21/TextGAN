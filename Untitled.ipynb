{
 "cells": [
  {
   "cell_type": "code",
   "execution_count": 1,
   "metadata": {},
   "outputs": [],
   "source": [
    "import numpy as np\n",
    "import pandas as pd\n",
    "import pickle"
   ]
  },
  {
   "cell_type": "code",
   "execution_count": 2,
   "metadata": {},
   "outputs": [
    {
     "name": "stdout",
     "output_type": "stream",
     "text": [
      "0 700000\n",
      "1 30000\n",
      "2 30000\n",
      "3 700000\n",
      "4 30000\n",
      "5 30000\n",
      "6 700000\n",
      "7 30000\n",
      "8 30000\n",
      "9 22842\n",
      "10 22842\n"
     ]
    }
   ],
   "source": [
    "x = pickle.load(open('../data/data.p', 'rb'))\n",
    "for i in range(len(x)):\n",
    "    print (i, len(x[i]))    \n",
    "    \n",
    "train, val, test = x[0], x[1], x[2]\n",
    "train_text, val_text, test_text = x[3], x[4], x[5]\n",
    "train_lab, val_lab, test_lab = x[6], x[7], x[8]\n",
    "wordtoix, ixtoword = x[9], x[10]\n",
    "\n",
    "del x\n",
    "del train_text, val_text, test_text"
   ]
  },
  {
   "cell_type": "code",
   "execution_count": 3,
   "metadata": {},
   "outputs": [
    {
     "data": {
      "text/plain": [
       "(22842, 22842)"
      ]
     },
     "execution_count": 3,
     "metadata": {},
     "output_type": "execute_result"
    }
   ],
   "source": [
    "len(wordtoix), len(ixtoword)"
   ]
  },
  {
   "cell_type": "code",
   "execution_count": 4,
   "metadata": {},
   "outputs": [
    {
     "data": {
      "text/plain": [
       "(700000, 30000, 30000)"
      ]
     },
     "execution_count": 4,
     "metadata": {},
     "output_type": "execute_result"
    }
   ],
   "source": [
    "len(train), len(val), len(test)"
   ]
  },
  {
   "cell_type": "code",
   "execution_count": 14,
   "metadata": {},
   "outputs": [
    {
     "data": {
      "text/plain": [
       "40"
      ]
     },
     "execution_count": 14,
     "metadata": {},
     "output_type": "execute_result"
    }
   ],
   "source": [
    "padding_size = 0\n",
    "\n",
    "for sent in train:\n",
    "    if len(sent) > padding_size:\n",
    "        padding_size = len(sent)\n",
    "        \n",
    "for sent in test:\n",
    "    if len(sent) > padding_size:\n",
    "        padding_size = len(sent)\n",
    "        \n",
    "for sent in test:\n",
    "    if len(sent) > padding_size:\n",
    "        padding_size = len(sent)\n",
    "        \n",
    "padding_size"
   ]
  },
  {
   "cell_type": "code",
   "execution_count": 15,
   "metadata": {},
   "outputs": [],
   "source": [
    "train = [sent+[0]*(padding_size-len(sent)) for sent in train]"
   ]
  },
  {
   "cell_type": "code",
   "execution_count": 16,
   "metadata": {},
   "outputs": [],
   "source": [
    "for sent in train:\n",
    "    if len(sent) != padding_size:\n",
    "        print (sent)"
   ]
  },
  {
   "cell_type": "code",
   "execution_count": 18,
   "metadata": {
    "scrolled": true
   },
   "outputs": [
    {
     "data": {
      "text/plain": [
       "2"
      ]
     },
     "execution_count": 18,
     "metadata": {},
     "output_type": "execute_result"
    }
   ],
   "source": [
    "train_lab[0]"
   ]
  },
  {
   "cell_type": "code",
   "execution_count": null,
   "metadata": {},
   "outputs": [],
   "source": []
  },
  {
   "cell_type": "code",
   "execution_count": null,
   "metadata": {},
   "outputs": [],
   "source": []
  }
 ],
 "metadata": {
  "kernelspec": {
   "display_name": "Python 3",
   "language": "python",
   "name": "python3"
  },
  "language_info": {
   "codemirror_mode": {
    "name": "ipython",
    "version": 3
   },
   "file_extension": ".py",
   "mimetype": "text/x-python",
   "name": "python",
   "nbconvert_exporter": "python",
   "pygments_lexer": "ipython3",
   "version": "3.6.4"
  }
 },
 "nbformat": 4,
 "nbformat_minor": 2
}
